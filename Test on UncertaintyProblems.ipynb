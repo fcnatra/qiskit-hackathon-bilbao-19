{
 "cells": [
  {
   "cell_type": "code",
   "execution_count": 2,
   "metadata": {},
   "outputs": [],
   "source": [
    "import pandas as pd\n",
    "import numpy as np\n",
    "\n",
    "url = \"https://raw.githubusercontent.com/ibonreinoso/qiskit-hackathon-bilbao-19/master/DAX_PERFORMANCE_INDEX.csv\"\n",
    "data = pd.read_csv(url, sep=';')\n",
    "data = data.drop(['wkn_500340'], axis = 1)\n",
    "data = data.loc[:,['wkn_515100', 'wkn_575200']]\n",
    "\n",
    "covariance_matrix = np.cov(data.values.T)"
   ]
  },
  {
   "cell_type": "code",
   "execution_count": 3,
   "metadata": {},
   "outputs": [
    {
     "name": "stdout",
     "output_type": "stream",
     "text": [
      "[[ 67.38376849  97.4907718 ]\n",
      " [ 97.4907718  152.27294829]]\n"
     ]
    }
   ],
   "source": [
    "print(covariance_matrix)"
   ]
  },
  {
   "cell_type": "code",
   "execution_count": 4,
   "metadata": {},
   "outputs": [
    {
     "name": "stdout",
     "output_type": "stream",
     "text": [
      "[[0.30676853 0.44383242]\n",
      " [0.44383242 0.69323147]]\n"
     ]
    }
   ],
   "source": [
    "trace_normalize_matrix = covariance_matrix /np.matrix.trace(covariance_matrix)\n",
    "\n",
    "print(trace_normalize_matrix)"
   ]
  },
  {
   "cell_type": "code",
   "execution_count": 5,
   "metadata": {},
   "outputs": [
    {
     "name": "stdout",
     "output_type": "stream",
     "text": [
      "[[9.94996262e-01+0.03988286j 2.19878137e-16-0.09160674j]\n",
      " [2.24840803e-16-0.09160674j 9.94996262e-01-0.03988286j]]\n"
     ]
    }
   ],
   "source": [
    "from scipy.linalg import expm\n",
    "\n",
    "unitary = expm(2*1j*np.pi*trace_normalize_matrix)\n",
    "\n",
    "print(unitary)"
   ]
  },
  {
   "cell_type": "code",
   "execution_count": 7,
   "metadata": {},
   "outputs": [],
   "source": [
    "from qiskit import *\n",
    "qreg = QuantumRegister(3)\n",
    "creg = ClassicalRegister(3)\n",
    "\n",
    "qcircuit = QuantumCircuit(qreg, creg)\n"
   ]
  },
  {
   "cell_type": "code",
   "execution_count": 24,
   "metadata": {},
   "outputs": [],
   "source": [
    "from qiskit.aqua.components.uncertainty_problems import UncertaintyProblem\n",
    "from qiskit.aqua.algorithms.single_sample.amplitude_estimation.q_factory import QFactory\n",
    "\n",
    "\n",
    "class PrincipalComponentAnalysisAFactory(UncertaintyProblem):\n",
    "    \"\"\"\n",
    "    Circuit Factory representing the given covariance matrix and \n",
    "    iterates using a random vector which a given initial state.\n",
    "    This matrix is used to initialize to construct Q and the \n",
    "    initial value of the random initial vector.\n",
    "    \"\"\"\n",
    "    \n",
    "    def __init__(self, random_vector, covariance_matrix):\n",
    "        super().__init__(1)\n",
    "        self._random_vector = random_vector\n",
    "        self._covariance_matrix = covariance_matrix\n",
    "        self.i_state = 0\n",
    "        self._trace_normalize_matrix = covariance_matrix /np.matrix.trace(covariance_matrix)\n",
    "        (self.th1, self.ph1, self.lam1) = qiskit.quantum_info.synthesis.two_qubit_decompose.euler_angles_1q(expm(2*1j*np.pi*self._trace_normalize_matrix))  \n",
    "    \n",
    "    def build(self, qc, q, q_ancillas=None):\n",
    "        qc.initialize(self._random_vector, 2)\n",
    "        qc.cu3(self.th1, self.ph1, self.lam1, 1, 2)\n",
    "\n"
   ]
  },
  {
   "cell_type": "code",
   "execution_count": 41,
   "metadata": {},
   "outputs": [],
   "source": [
    "class PrincipalComponentAnalysisQFactory(QFactory):\n",
    "    \"\"\"\n",
    "    Circuit Factory representing the operator Q.\n",
    "    This implementation exploits the fact that powers of Q can be implemented efficiently by just multiplying the angle.\n",
    "    (amplitude estimation only requires controlled powers of Q, thus, only this method is overridden.)\n",
    "    \"\"\"\n",
    "    \n",
    "    def __init__(self, qpca_expected_value):\n",
    "        super().__init__(qpca_expected_value, i_objective=0)\n",
    "    \n",
    "    def build(self, qc, q, q_ancillas=None):\n",
    "        i_state = self.a_factory.i_state\n",
    "        trace_normalize_matrix = self.a_factory._trace_normalize_matrix\n",
    "        \n",
    "        (self.th1, self.ph1, self.lam1) = qiskit.quantum_info.synthesis.two_qubit_decompose.euler_angles_1q(expm(2*1j*np.pi*self._trace_normalize_matrix))  \n",
    "        # Q is a rotation of angle 2*theta_p around the Y-axis\n",
    "        qc.initialize(random_vector, 2)\n",
    "    \n",
    "    def build_controlled_power(self, qc, q, q_control, power, q_ancillas=None, use_basis_gates=True):\n",
    "        i_state = self.a_factory.i_state\n",
    "\n",
    "        qc.cu3(self.a_factory.th1, self.a_factory.ph1, self.a_factory.lam1, 1, 2)\n",
    "        (th2, ph2, lam2) = qiskit.quantum_info.synthesis.two_qubit_decompose.euler_angles_1q(expm(2*1j*np.pi*self.a_factory._trace_normalize_matrix*2))\n",
    "        qc.cu3(th2, ph2, lam2, 0, 2)"
   ]
  },
  {
   "cell_type": "code",
   "execution_count": 42,
   "metadata": {},
   "outputs": [],
   "source": [
    "# construct factories for A and Q\n",
    "qpca_a_factory = PrincipalComponentAnalysisAFactory([0,1], trace_normalize_matrix)\n",
    "qpca_q_factory = PrincipalComponentAnalysisQFactory(qpca_a_factory)\n"
   ]
  },
  {
   "cell_type": "code",
   "execution_count": 43,
   "metadata": {},
   "outputs": [],
   "source": [
    "from qiskit.aqua.algorithms import AmplitudeEstimation\n",
    "\n",
    "# set number of evaluation qubits\n",
    "m = 3\n",
    "\n",
    "# construct amplitude estimation\n",
    "# here, we override the standard construction of Q since we know a more efficient way\n",
    "# (exploiting the fact that A and Q are just Y-rotations)\n",
    "ae = AmplitudeEstimation(m, qpca_a_factory, q_factory=qpca_q_factory)"
   ]
  },
  {
   "cell_type": "code",
   "execution_count": 44,
   "metadata": {},
   "outputs": [],
   "source": [
    "result = ae.run(quantum_instance=BasicAer.get_backend('statevector_simulator'))\n"
   ]
  },
  {
   "cell_type": "code",
   "execution_count": 47,
   "metadata": {},
   "outputs": [
    {
     "data": {
      "text/html": [
       "<pre style=\"word-wrap: normal;white-space: pre;background: #fff0;line-height: 1.1;font-family: &quot;Courier New&quot;,Courier,monospace\">            ┌──────────┐                                             »\n",
       "a_0: |0>────┤ U2(0,pi) ├─────────────────────────────────────────────»\n",
       "            └──────────┘                                 ┌──────────┐»\n",
       "a_1: |0>─────────────────────────────────■───────────────┤ U2(0,pi) ├»\n",
       "        ┌─────────────────┐┌─────────────┴──────────────┐├──────────┤»\n",
       "a_2: |0>┤ Initialize(0,1) ├┤ U3(0.18347,-1.6109,1.5307) ├┤ U2(0,pi) ├»\n",
       "        └─────────────────┘└────────────────────────────┘└──────────┘»\n",
       "q_0: |0>─────────────────────────────────────────────────────────────»\n",
       "                                                                     »\n",
       "«                                                               »\n",
       "«a_0: ───────────────────────────────────────────■──────────────»\n",
       "«                                                │              »\n",
       "«a_1: ──────────────■────────────────────────────┼──────────────»\n",
       "«     ┌─────────────┴──────────────┐┌────────────┴─────────────┐»\n",
       "«a_2: ┤ U3(0.18347,-1.6109,1.5307) ├┤ U3(0.36664,-1.6516,1.49) ├»\n",
       "«     └────────────────────────────┘└──────────────────────────┘»\n",
       "«q_0: ──────────────────────────────────────────────────────────»\n",
       "«                                                               »\n",
       "«                                                               »\n",
       "«a_0: ───────────────────────────────────────────■──────────────»\n",
       "«                                                │              »\n",
       "«a_1: ──────────────■────────────────────────────┼──────────────»\n",
       "«     ┌─────────────┴──────────────┐┌────────────┴─────────────┐»\n",
       "«a_2: ┤ U3(0.18347,-1.6109,1.5307) ├┤ U3(0.36664,-1.6516,1.49) ├»\n",
       "«     └────────────────────────────┘└──────────────────────────┘»\n",
       "«q_0: ──────────────────────────────────────────────────────────»\n",
       "«                                                               »\n",
       "«                                                                           »\n",
       "«a_0: ───────────────────────────────────────────■──────────────────────────»\n",
       "«                                                │                          »\n",
       "«a_1: ──────────────■────────────────────────────┼──────────────────────────»\n",
       "«     ┌─────────────┴──────────────┐┌────────────┴─────────────┐┌──────────┐»\n",
       "«a_2: ┤ U3(0.18347,-1.6109,1.5307) ├┤ U3(0.36664,-1.6516,1.49) ├┤ U2(0,pi) ├»\n",
       "«     └────────────────────────────┘└──────────────────────────┘└──────────┘»\n",
       "«q_0: ──────────────────────────────────────────────────────────────────────»\n",
       "«                                                                           »\n",
       "«                                                     ┌───┐┌──────────┐»\n",
       "«a_0: ────────────────────────────────────────────────┤ X ├┤ U1(pi/8) ├»\n",
       "«                  ┌───┐┌──────────┐┌───┐┌───────────┐└─┬─┘├──────────┤»\n",
       "«a_1: ─────────────┤ X ├┤ U1(pi/4) ├┤ X ├┤ U1(-pi/4) ├──┼──┤ U2(0,pi) ├»\n",
       "«     ┌───────────┐└─┬─┘└──────────┘└─┬─┘├───────────┤  │  └──────────┘»\n",
       "«a_2: ┤ U1(-pi/4) ├──■────────────────■──┤ U1(-pi/8) ├──■──────────────»\n",
       "«     └───────────┘                      └───────────┘                 »\n",
       "«q_0: ─────────────────────────────────────────────────────────────────»\n",
       "«                                                                      »\n",
       "«                  ┌───┐┌───────────┐┌───┐┌──────────┐┌───┐┌───────────┐»\n",
       "«a_0: ─────────────┤ X ├┤ U1(-pi/8) ├┤ X ├┤ U1(pi/4) ├┤ X ├┤ U1(-pi/4) ├»\n",
       "«     ┌───────────┐└─┬─┘└───────────┘└─┬─┘└──────────┘└─┬─┘└───────────┘»\n",
       "«a_1: ┤ U1(-pi/4) ├──┼─────────────────■────────────────■───────────────»\n",
       "«     └───────────┘  │                                                  »\n",
       "«a_2: ───────────────■──────────────────────────────────────────────────»\n",
       "«                                                                       »\n",
       "«q_0: ──────────────────────────────────────────────────────────────────»\n",
       "«                                                                       »\n",
       "«     ┌──────────┐\n",
       "«a_0: ┤ U2(0,pi) ├\n",
       "«     └──────────┘\n",
       "«a_1: ────────────\n",
       "«                 \n",
       "«a_2: ────────────\n",
       "«                 \n",
       "«q_0: ────────────\n",
       "«                 </pre>"
      ],
      "text/plain": [
       "<qiskit.visualization.text.TextDrawing at 0x22cc914aef0>"
      ]
     },
     "execution_count": 47,
     "metadata": {},
     "output_type": "execute_result"
    }
   ],
   "source": [
    "ae._circuit.draw()\n"
   ]
  },
  {
   "cell_type": "code",
   "execution_count": 48,
   "metadata": {},
   "outputs": [
    {
     "name": "stdout",
     "output_type": "stream",
     "text": [
      "{'statevector': array([[ 0.02277901+0.16184019j, -0.02382799-0.10282148j,\n",
      "        -0.01964614-0.0179653j ,  0.02069512-0.04105341j,\n",
      "         0.51418793-0.51664074j,  0.12510929+0.11025271j,\n",
      "         0.33158112+0.00553146j,  0.01962056+0.53837716j,\n",
      "         0.        +0.j        ,  0.        +0.j        ,\n",
      "         0.        +0.j        ,  0.        +0.j        ,\n",
      "         0.        +0.j        ,  0.        +0.j        ,\n",
      "         0.        +0.j        ,  0.        +0.j        ]]), 'shots': 1, 'a_items': [(0.0, 0.026711129241929723), (0.1464466, 0.8215418169329101), (0.5, 0.0028223931313840155), (0.8535534, 0.13778463142913305), (1.0, 0.011140029264643105)], 'y_items': [(0, 0.026711129241929723), (1, 0.5313068796007325), (2, 0.0007087226304230802), (3, 0.10997663580290644), (4, 0.011140029264643105), (5, 0.027807995626226628), (6, 0.0021136705009609353), (7, 0.2902349373321775)], 'mapped_values': [0.0, 0.1464466, 0.5, 0.8535534, 1.0], 'values': [0.0, 0.1464466, 0.5, 0.8535534, 1.0], 'y_values': [0, 1, 2, 3, 4, 5, 6, 7], 'probabilities': [0.026711129241929723, 0.8215418169329101, 0.0028223931313840155, 0.13778463142913305, 0.011140029264643105], 'mapped_items': [(0.0, 0.026711129241929723), (0.1464466, 0.8215418169329101), (0.5, 0.0028223931313840155), (0.8535534, 0.13778463142913305), (1.0, 0.011140029264643105)], 'value': 0.1464466, 'estimation': 0.1464466, 'max_probability': 0.8215418169329101, 'ml_value': 0.21957649952121466, 'mle': 0.21957649952121466, '95%_confidence_interval': [0.1464466, 0.1464466]}\n"
     ]
    }
   ],
   "source": [
    "print(result)"
   ]
  },
  {
   "cell_type": "code",
   "execution_count": null,
   "metadata": {},
   "outputs": [],
   "source": []
  }
 ],
 "metadata": {
  "kernelspec": {
   "display_name": "Python 3",
   "language": "python",
   "name": "python3"
  },
  "language_info": {
   "codemirror_mode": {
    "name": "ipython",
    "version": 3
   },
   "file_extension": ".py",
   "mimetype": "text/x-python",
   "name": "python",
   "nbconvert_exporter": "python",
   "pygments_lexer": "ipython3",
   "version": "3.7.3"
  }
 },
 "nbformat": 4,
 "nbformat_minor": 2
}
